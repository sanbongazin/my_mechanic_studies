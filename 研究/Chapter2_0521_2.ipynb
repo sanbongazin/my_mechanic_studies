{
 "cells": [
  {
   "cell_type": "markdown",
   "metadata": {},
   "source": [
    "テストセットは600個\n",
    "トレーニングセットが800個（変更なし）\n",
    "タイトルを日本語にして、置くこと（調べてやっておく）\n",
    "\n",
    "乱数の種を変えること。"
   ]
  },
  {
   "cell_type": "code",
   "execution_count": 1,
   "metadata": {},
   "outputs": [
    {
     "name": "stderr",
     "output_type": "stream",
     "text": [
      "C:\\Users\\Makuwo\\Anaconda3\\envs\\makuwo\\lib\\site-packages\\h5py\\__init__.py:36: FutureWarning: Conversion of the second argument of issubdtype from `float` to `np.floating` is deprecated. In future, it will be treated as `np.float64 == np.dtype(float).type`.\n",
      "  from ._conv import register_converters as _register_converters\n"
     ]
    }
   ],
   "source": [
    "import tensorflow as tf\n",
    "import numpy as np\n",
    "import matplotlib.pyplot as plt\n",
    "from numpy.random import multivariate_normal,permutation\n",
    "import pandas as pd\n",
    "from pandas import DataFrame, Series \n",
    "import matplotlib as mpl\n",
    "mpl.rcParams['font.family'] = 'IPAMincho'"
   ]
  },
  {
   "cell_type": "code",
   "execution_count": 2,
   "metadata": {},
   "outputs": [],
   "source": [
    "%config IPCompleter.greedy=True\n",
    "%matplotlib inline\n",
    "%matplotlib notebook"
   ]
  },
  {
   "cell_type": "code",
   "execution_count": 3,
   "metadata": {},
   "outputs": [],
   "source": [
    "# plt.matplotlib_fname()"
   ]
  },
  {
   "cell_type": "code",
   "execution_count": 4,
   "metadata": {},
   "outputs": [],
   "source": [
    "np.random.seed(19961123)\n",
    "\n",
    "n0, mu0, variance0 = 800, [10,11], 20\n",
    "data0 = multivariate_normal(mu0,np.eye(2)*variance0, n0)\n",
    "df0 = DataFrame(data0,columns=['x','y'])\n",
    "df0['t'] = 0\n",
    "\n",
    "n1, mu1, variance1 = 600, [18,20], 22\n",
    "data1 = multivariate_normal(mu1,np.eye(2)*variance1, n1)\n",
    "df1 = DataFrame(data1,columns=['x','y'])\n",
    "df1['t'] = 1\n",
    "\n",
    "df = pd.concat([df0,df1], ignore_index=True)\n",
    "df = df.reindex(permutation(df.index)).reset_index(drop=True)\n",
    "\n",
    "num_data = int(len(df)*0.8)\n",
    "train_set =df[:num_data]\n",
    "test_set =df[num_data:]"
   ]
  },
  {
   "cell_type": "code",
   "execution_count": 5,
   "metadata": {},
   "outputs": [],
   "source": [
    "train_x=train_set[['x','y']].as_matrix()\n",
    "train_t=train_set['t'].as_matrix().reshape([len(train_set),1])\n",
    "test_x=test_set[['x','y']].as_matrix()\n",
    "test_t=test_set['t'].as_matrix().reshape([len(test_set),1])"
   ]
  },
  {
   "cell_type": "code",
   "execution_count": 6,
   "metadata": {},
   "outputs": [],
   "source": [
    "x = tf.placeholder(tf.float32,[None ,2])\n",
    "w = tf.Variable(tf.zeros([2,1]))\n",
    "w0 = tf.Variable(tf.zeros([1]))\n",
    "f = tf.matmul(x,w) + w0\n",
    "p = tf.sigmoid(f)"
   ]
  },
  {
   "cell_type": "code",
   "execution_count": 7,
   "metadata": {},
   "outputs": [],
   "source": [
    "t = tf.placeholder(tf.float32, [None,1])\n",
    "loss = -tf.reduce_sum(t*tf.log(p)+(1-t)*tf.log(1-p))#定義式注意\n",
    "train_step = tf.train.AdamOptimizer().minimize(loss)"
   ]
  },
  {
   "cell_type": "code",
   "execution_count": 8,
   "metadata": {},
   "outputs": [],
   "source": [
    "correct_prediction = tf.equal(tf.sign(p-0.5),tf.sign(t-0.5))\n",
    "accuracy= tf.reduce_mean(tf.cast(correct_prediction, tf.float32))"
   ]
  },
  {
   "cell_type": "code",
   "execution_count": 9,
   "metadata": {},
   "outputs": [],
   "source": [
    "sess = tf.Session()\n",
    "sess.run(tf.global_variables_initializer())"
   ]
  },
  {
   "cell_type": "code",
   "execution_count": 10,
   "metadata": {},
   "outputs": [],
   "source": [
    "train_accuracy = []\n",
    "test_accuracy = []\n",
    "for _ in range (2500):\n",
    "    sess.run(train_step,feed_dict={x:train_x,t:train_t})\n",
    "    acc_val =sess.run(accuracy, feed_dict={x:train_x,t:train_t})\n",
    "    train_accuracy.append(acc_val)\n",
    "    acc_val =sess.run(accuracy, feed_dict={x:test_x,t:test_t})\n",
    "    test_accuracy.append(acc_val)"
   ]
  },
  {
   "cell_type": "code",
   "execution_count": null,
   "metadata": {},
   "outputs": [
    {
     "name": "stdout",
     "output_type": "stream",
     "text": [
      "Step:1000, Loss:441.786377\n",
      "Step:2000, Loss:396.281433\n",
      "Step:3000, Loss:361.117889\n",
      "Step:4000, Loss:333.711578\n",
      "Step:5000, Loss:312.292542\n",
      "Step:6000, Loss:295.591431\n",
      "Step:7000, Loss:282.662262\n",
      "Step:8000, Loss:272.775238\n",
      "Step:9000, Loss:265.359924\n",
      "Step:10000, Loss:259.953705\n",
      "Step:11000, Loss:256.174286\n",
      "Step:12000, Loss:253.695694\n",
      "Step:13000, Loss:252.225616\n",
      "Step:14000, Loss:251.486877\n",
      "Step:15000, Loss:251.209305\n",
      "Step:16000, Loss:251.147415\n",
      "Step:17000, Loss:251.141968\n",
      "Step:18000, Loss:251.141876\n",
      "Step:19000, Loss:251.141876\n"
     ]
    }
   ],
   "source": [
    "i = 0\n",
    "train_y = []\n",
    "for _ in range (200000):\n",
    "    i += 1 \n",
    "    sess.run(train_step,feed_dict={x:train_x,t:train_t})\n",
    "    loss_val =sess.run(loss, feed_dict={x:train_x,t:train_t})\n",
    "#     train_y.append(loss_val)\n",
    "    if i % 1000 == 0:\n",
    "        loss_val =sess.run(loss, feed_dict={x:train_x,t:train_t})\n",
    "        train_y.append(loss_val)\n",
    "#         time.append(i)\n",
    "        print ('Step:%d, Loss:%f'%(i, loss_val))\n"
   ]
  },
  {
   "cell_type": "code",
   "execution_count": null,
   "metadata": {},
   "outputs": [],
   "source": [
    "loss_processing = []\n",
    "c = 0\n",
    "for c in range(2500):\n",
    "        loss_processing [c] = train_y[c] / 280"
   ]
  },
  {
   "cell_type": "code",
   "execution_count": null,
   "metadata": {},
   "outputs": [],
   "source": [
    "fig_R = plt.figure(figsize=(8,6))\n",
    "subplot = fig_R.add_subplot(1,1,1)\n",
    "subplot.plot(range (len(train_accuracy)),train_accuracy,linewidth=2,label='Training set')\n",
    "subplot.plot(range (len(test_accuracy)),test_accuracy,linewidth=2,label='Test set')\n",
    "subplot.legend(loc='upper left')\n",
    "\n",
    "fig_L = plt.figure(figsize=(8,6))\n",
    "subplot = fig_L.add_subplot(1,1,1)\n",
    "subplot.plot(train_y,train_y,linewidth=2)\n",
    "# subplot.legend(loc='upper left')\n",
    "plt.title(\"ロジスティク回帰による二項分類器\")"
   ]
  },
  {
   "cell_type": "code",
   "execution_count": null,
   "metadata": {},
   "outputs": [],
   "source": []
  }
 ],
 "metadata": {
  "kernelspec": {
   "display_name": "Environment (conda_makuwo)",
   "language": "python",
   "name": "conda_makuwo"
  },
  "language_info": {
   "codemirror_mode": {
    "name": "ipython",
    "version": 3
   },
   "file_extension": ".py",
   "mimetype": "text/x-python",
   "name": "python",
   "nbconvert_exporter": "python",
   "pygments_lexer": "ipython3",
   "version": "3.5.4"
  }
 },
 "nbformat": 4,
 "nbformat_minor": 2
}
