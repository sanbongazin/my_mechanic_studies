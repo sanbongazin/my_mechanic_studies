{
 "cells": [
  {
   "cell_type": "code",
   "execution_count": null,
   "metadata": {},
   "outputs": [],
   "source": [
    "import tensorflow as tf\n",
    "import numpy as np\n",
    "import matplotlib.pyplot as plt\n",
    "from numpy.random import multivariate_normal,permutation\n",
    "import pandas as pd\n",
    "from pandas import DataFrame,Series\n",
    "from matplotlib.font_manager import FontProperties\n",
    "\n",
    "# fp = FontProperties(fname=r'C:\\WINDOWS\\Fonts\\YuGothic.ttc', size=14)\n",
    "fp = FontProperties(fname=r'/system/library/fonts/ヒラギノ角ゴシック W0.ttc', size = 14)"
   ]
  },
  {
   "cell_type": "code",
   "execution_count": null,
   "metadata": {},
   "outputs": [],
   "source": [
    "%config IPCompleter.greedy=True\n",
    "%matplotlib inline\n",
    "%matplotlib notebook"
   ]
  },
  {
   "cell_type": "code",
   "execution_count": null,
   "metadata": {},
   "outputs": [],
   "source": [
    "np.random.seed(19961123)\n",
    "\n",
    "n0, mu0,variance0 = 800,[10,11],20\n",
    "data0 = multivariate_normal(mu0 , np.eye(2)*variance0,n0)\n",
    "df0 = DataFrame(data0,columns=['x1','x2'])\n",
    "df0['t'] = 0\n",
    "\n",
    "n1,mu1,variance1 = 600, [20,22],22\n",
    "data1 = multivariate_normal(mu1 , np.eye(2)*variance1,n1)\n",
    "df1 = DataFrame(data1,columns=['x1','x2'])\n",
    "df1['t']=1\n",
    "\n",
    "df = pd.concat([df0,df1],ignore_index=True)\n",
    "df = df.reindex(permutation(df.index)).reset_index(drop=True)\n",
    "\n",
    "num_data = int(len(df)*0.8)\n",
    "train_set =df[:num_data]\n",
    "test_set =df[num_data:]"
   ]
  },
  {
   "cell_type": "code",
   "execution_count": null,
   "metadata": {},
   "outputs": [],
   "source": [
    "# train_set"
   ]
  },
  {
   "cell_type": "code",
   "execution_count": null,
   "metadata": {},
   "outputs": [],
   "source": [
    "# test_set"
   ]
  },
  {
   "cell_type": "code",
   "execution_count": null,
   "metadata": {},
   "outputs": [],
   "source": [
    "train_x = train_set[['x1','x2']].as_matrix()\n",
    "train_t = train_set['t'].as_matrix().reshape([len(train_set),1])"
   ]
  },
  {
   "cell_type": "code",
   "execution_count": null,
   "metadata": {},
   "outputs": [],
   "source": [
    "# train_x"
   ]
  },
  {
   "cell_type": "code",
   "execution_count": null,
   "metadata": {},
   "outputs": [],
   "source": [
    "# train_t"
   ]
  },
  {
   "cell_type": "code",
   "execution_count": null,
   "metadata": {},
   "outputs": [],
   "source": [
    "x = tf.placeholder(tf.float32,[None,2])\n",
    "w = tf.Variable(tf.zeros([2,1]))\n",
    "w0 = tf.Variable(tf.zeros([1]))\n",
    "f = tf.matmul(x,w)+w0\n",
    "p = tf.sigmoid(f)\n",
    "t = tf.placeholder(tf.float32,[None,1])"
   ]
  },
  {
   "cell_type": "code",
   "execution_count": null,
   "metadata": {},
   "outputs": [],
   "source": [
    "loss = -tf.reduce_sum(t*tf.log(p) + (1-t)*tf.log(1-p))\n",
    "train_step = tf.train.AdamOptimizer().minimize(loss)\n",
    "correct_prediction = tf.equal(tf.sign(p-0.5),tf.sign(t-0.5))"
   ]
  },
  {
   "cell_type": "code",
   "execution_count": null,
   "metadata": {},
   "outputs": [],
   "source": [
    "accuacy = tf.reduce_mean(tf.cast(correct_prediction,tf.float32)) \n",
    "sess = tf.Session()\n",
    "sess.run(tf.global_variables_initializer())"
   ]
  },
  {
   "cell_type": "code",
   "execution_count": null,
   "metadata": {},
   "outputs": [],
   "source": [
    "i = 0\n",
    "for _ in range(20000):\n",
    "    i += 1\n",
    "    sess.run(train_step, feed_dict={x:train_x, t:train_t})\n",
    "    if i % 2000 == 0:\n",
    "        loss_val, acc_val = sess.run(\n",
    "            [loss,accuacy], feed_dict={x:train_x, t:train_t})\n",
    "        print ('Step:%d, Loss:%f , Accuacy:%f' \n",
    "               % (i, loss_val, acc_val))"
   ]
  },
  {
   "cell_type": "code",
   "execution_count": null,
   "metadata": {},
   "outputs": [],
   "source": [
    "w0_val, w_val= sess.run([w0,w])\n",
    "w0_val, w1_val, w2_val = w0_val[0], w_val[0][0], w_val[1][0]\n",
    "print (w0_val, w1_val, w2_val)"
   ]
  },
  {
   "cell_type": "code",
   "execution_count": null,
   "metadata": {},
   "outputs": [],
   "source": [
    "test_set0 = test_set[test_set['t']==0]\n",
    "test_set1 = test_set[test_set['t']==1]\n",
    "\n",
    "\n",
    "fig = plt.figure(figsize=(6,6))\n",
    "\n",
    "subplot = fig.add_subplot(1,1,1)\n",
    "subplot.set_ylim([0,35])\n",
    "subplot.set_xlim([0,35])\n",
    "subplot.scatter(test_set1.x1, test_set1.x2, marker='x', label = \"t=1 感染{}\".format(len(test_set1)))\n",
    "subplot.scatter(test_set0.x1, test_set0.x2, marker='o', label = \"t=0 感染{}\".format(len(test_set0)))\n",
    "plt.suptitle(u'ロジスティック回帰による二項分類器',fontproperties=fp)\n",
    "plt.title(u'テストセット{}点'.format(len(test_set)),fontproperties=fp)\n",
    "plt.xlabel(u'X1')\n",
    "plt.ylabel(u'X2')\n",
    "plt.legend(prop=fp, loc='lower right')\n",
    "\n",
    "linex = np.linspace(0, 35, 10)\n",
    "liney = - (w1_val*linex/w2_val+w0_val/w2_val)\n",
    "subplot.plot(linex,liney)\n",
    "\n",
    "field = [[(1/(1+np.exp(-(w0_val+w1_val*x1+w2_val*x2))))#スターとプラス注意\n",
    "          for x1 in np.linspace(0,35,100)]\n",
    "         for x2 in np.linspace(0,35,100)]\n",
    "subplot.imshow(field, origin = 'lower', extent=(0,35,0,35), \n",
    "               cmap= plt.cm.gray_r, alpha=0.5)"
   ]
  },
  {
   "cell_type": "code",
   "execution_count": null,
   "metadata": {},
   "outputs": [],
   "source": []
  }
 ],
 "metadata": {
  "kernelspec": {
   "display_name": "Environment (conda_makuwo)",
   "language": "python",
   "name": "conda_makuwo"
  },
  "language_info": {
   "codemirror_mode": {
    "name": "ipython",
    "version": 3
   },
   "file_extension": ".py",
   "mimetype": "text/x-python",
   "name": "python",
   "nbconvert_exporter": "python",
   "pygments_lexer": "ipython3",
   "version": "3.5.5"
  }
 },
 "nbformat": 4,
 "nbformat_minor": 2
}
