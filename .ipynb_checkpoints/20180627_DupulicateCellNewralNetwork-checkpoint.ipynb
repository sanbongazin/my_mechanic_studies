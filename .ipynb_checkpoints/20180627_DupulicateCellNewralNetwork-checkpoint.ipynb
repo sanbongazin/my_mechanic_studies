{
 "cells": [
  {
   "cell_type": "code",
   "execution_count": 1,
   "metadata": {},
   "outputs": [
    {
     "name": "stderr",
     "output_type": "stream",
     "text": [
      "/Users/yamamotomasaomi/.pyenv/versions/anaconda3-5.1.0/envs/makuwo/lib/python3.5/importlib/_bootstrap.py:222: RuntimeWarning: compiletime version 3.6 of module 'tensorflow.python.framework.fast_tensor_util' does not match runtime version 3.5\n",
      "  return f(*args, **kwds)\n"
     ]
    }
   ],
   "source": [
    "import tensorflow as tf\n",
    "import numpy as np\n",
    "import matplotlib.pyplot as plt\n",
    "from numpy.random import multivariate_normal,permutation\n",
    "# from tensorflow.examples.tutorials.mnist import input_data\n",
    "import pandas as pd\n",
    "from pandas import DataFrame, Series\n",
    "from matplotlib.font_manager import FontProperties\n",
    "\n",
    "fp = FontProperties(fname=r'/system/library/fonts/ヒラギノ角ゴシック W0.ttc', size = 14)\n",
    "\n",
    "np.random.seed(19961123)\n",
    "tf.set_random_seed(19961123)\n",
    "\n",
    "%config IPCompleter.greedy=True\n",
    "%matplotlib inline\n",
    "%matplotlib notebook"
   ]
  },
  {
   "cell_type": "code",
   "execution_count": 2,
   "metadata": {},
   "outputs": [],
   "source": [
    "def generate_datablock(n, mu, var, t):\n",
    "    data = np.random.multivariate_normal(mu, np.eye(2)*var, n)\n",
    "    df = DataFrame(data, columns = ['x1', 'x2'])\n",
    "    df['t'] = t\n",
    "    return df\n",
    "\n",
    "# 領域を４分割に作成。これらの値をtrain_setに格納していく\n",
    "df0 = generate_datablock(30, [-7,-7], 18, 1)\n",
    "df1 = generate_datablock(30, [-7, 7], 18, 0)\n",
    "df2 = generate_datablock(30, [ 7,-7], 18, 0)\n",
    "df3 = generate_datablock(30, [ 7, 7], 18, 1)\n",
    "\n",
    "df = pd.concat([df0, df1, df2, df3], ignore_index=True)\n",
    "train_set = df.reindex(permutation(df.index)).reset_index(drop=True)"
   ]
  },
  {
   "cell_type": "code",
   "execution_count": 3,
   "metadata": {},
   "outputs": [],
   "source": [
    "train_x = train_set[['x1','x2']].as_matrix()\n",
    "train_t = train_set['t'].as_matrix().reshape([len(train_set), 1])"
   ]
  },
  {
   "cell_type": "code",
   "execution_count": 4,
   "metadata": {},
   "outputs": [],
   "source": [
    "# mnist = input_data.read_data_sets(\"/tmp/data/\", one_hot=True)"
   ]
  },
  {
   "cell_type": "code",
   "execution_count": 5,
   "metadata": {},
   "outputs": [],
   "source": [
    "# 隠れ層のノード数の指定\n",
    "num_units1 = 2\n",
    "num_units2 = 2\n",
    "\n",
    "x = tf.placeholder(tf.float32, [None, 2])\n",
    "\n",
    "# 一層目\n",
    "w1 = tf.Variable(tf.truncated_normal([2, num_units1]))\n",
    "b1 = tf.Variable(tf.zeros([num_units1]))\n",
    "hidden1 = tf.nn.tanh(tf.matmul(x, w1)+b1)\n",
    "\n",
    "# 二層目（XOR演算）\n",
    "w2 = tf.Variable(tf.truncated_normal([num_units1, num_units2]))\n",
    "b2 = tf.Variable(tf.zeros([num_units2]))\n",
    "hidden2 = tf.nn.tanh(tf.matmul(hidden1, w2) + b2)\n",
    "\n",
    "# 出力層\n",
    "w0 = tf.Variable(tf.zeros([num_units2,1]))\n",
    "b0 = tf.Variable(tf.zeros([1]))\n",
    "p = tf.nn.sigmoid(tf.matmul(hidden2, w0) + b0)"
   ]
  },
  {
   "cell_type": "code",
   "execution_count": 6,
   "metadata": {},
   "outputs": [],
   "source": [
    "t = tf.placeholder(tf.float32, [None, 1])\n",
    "loss = -tf.reduce_sum(t * tf.log(p) + (1-t) * tf.log(1-p))\n",
    "train_step = tf.train.GradientDescentOptimizer(0.07).minimize(loss)\n",
    "# train_step = tf.train.AdamOptimizer().minimize(loss)\n",
    "\n",
    "# 学習率の指定\n",
    "correct_prediction = tf.equal(tf.sign(p - 0.5), tf.sign(t - 0.5))\n",
    "accuracy = tf.reduce_mean(tf.cast(correct_prediction, tf.float32))"
   ]
  },
  {
   "cell_type": "code",
   "execution_count": 7,
   "metadata": {},
   "outputs": [],
   "source": [
    "sess = tf.InteractiveSession()\n",
    "sess.run(tf.global_variables_initializer())"
   ]
  },
  {
   "cell_type": "code",
   "execution_count": 8,
   "metadata": {},
   "outputs": [
    {
     "name": "stdout",
     "output_type": "stream",
     "text": [
      "Step:100, Loss:68.314377, Accuracy:0.675000\n",
      "Step:200, Loss:39.090866, Accuracy:0.875000\n",
      "Step:300, Loss:39.146416, Accuracy:0.875000\n",
      "Step:400, Loss:39.145302, Accuracy:0.875000\n",
      "Step:500, Loss:39.144554, Accuracy:0.875000\n",
      "Step:600, Loss:39.143929, Accuracy:0.875000\n",
      "Step:700, Loss:39.143394, Accuracy:0.875000\n",
      "Step:800, Loss:39.142944, Accuracy:0.875000\n",
      "Step:900, Loss:39.142563, Accuracy:0.875000\n",
      "Step:1000, Loss:39.142231, Accuracy:0.875000\n",
      "Step:1100, Loss:39.141960, Accuracy:0.875000\n",
      "Step:1200, Loss:39.141731, Accuracy:0.875000\n",
      "Step:1300, Loss:39.141541, Accuracy:0.875000\n",
      "Step:1400, Loss:39.141396, Accuracy:0.875000\n",
      "Step:1500, Loss:39.141281, Accuracy:0.875000\n",
      "Step:1600, Loss:39.141212, Accuracy:0.875000\n",
      "Step:1700, Loss:39.141182, Accuracy:0.875000\n",
      "Step:1800, Loss:39.141205, Accuracy:0.875000\n",
      "Step:1900, Loss:39.141289, Accuracy:0.875000\n",
      "Step:2000, Loss:39.141457, Accuracy:0.875000\n"
     ]
    }
   ],
   "source": [
    "# 正解率の計算\n",
    "i=0\n",
    "for _ in range(2000):\n",
    "    i += 1\n",
    "    sess.run(train_step, feed_dict={x:train_x, t:train_t})\n",
    "    if i % 100 == 0:\n",
    "        loss_val, acc_val = sess.run([loss,accuracy],feed_dict={x:train_x, t:train_t})\n",
    "        print ('Step:%d, Loss:%f, Accuracy:%f' % (i, loss_val, acc_val) )"
   ]
  },
  {
   "cell_type": "code",
   "execution_count": 9,
   "metadata": {},
   "outputs": [
    {
     "name": "stdout",
     "output_type": "stream",
     "text": [
      "[[ 6.815619  -0.7824834]\n",
      " [ 1.2511846 -5.152375 ]]\n",
      "[-2.7414606   0.79206765]\n"
     ]
    }
   ],
   "source": [
    "w1_val , b1_val=sess.run([w1,b1])\n",
    "print (w1_val)\n",
    "print (b1_val)"
   ]
  },
  {
   "cell_type": "code",
   "execution_count": 10,
   "metadata": {},
   "outputs": [],
   "source": [
    "# それぞれのw11,w21,w22,w12という一次関数に代入する値を設定する。\n",
    "w11 = w1_val[0][0]\n",
    "w21 = w1_val[1][0]\n",
    "w12 = w1_val[1][1]\n",
    "w22 = w1_val[0][1]\n",
    "b1_final = b1_val[0] \n",
    "b2_final = b1_val[1]"
   ]
  },
  {
   "cell_type": "code",
   "execution_count": 11,
   "metadata": {},
   "outputs": [],
   "source": [
    "# b1_val[0]"
   ]
  },
  {
   "cell_type": "code",
   "execution_count": 12,
   "metadata": {},
   "outputs": [
    {
     "data": {
      "text/plain": [
       "<matplotlib.legend.Legend at 0x11aa027f0>"
      ]
     },
     "execution_count": 12,
     "metadata": {},
     "output_type": "execute_result"
    },
    {
     "data": {
      "image/png": "[encoded data removed]",
      "text/plain": [
       "<Figure size 432x432 with 1 Axes>"
      ]
     },
     "metadata": {},
     "output_type": "display_data"
    }
   ],
   "source": [
    "train_set1 = train_set[train_set['t'] == 1]\n",
    "train_set2 = train_set[train_set['t'] == 0]\n",
    "\n",
    "fig = plt.figure(figsize=(6, 6))\n",
    "subplot = fig.add_subplot(1,1,1)\n",
    "subplot.set_ylim([-15, 15])\n",
    "subplot.set_xlim([-15, 15])\n",
    "\n",
    "# マーカーの配置\n",
    "subplot.scatter(train_set1.x1, train_set1.x2, marker = 'x',label = \"t=0 非感染{}\".format(len(train_set1)))\n",
    "subplot.scatter(train_set2.x1, train_set2.x2, marker = 'o',label = \"t=1 感染{}\".format(len(train_set2)))\n",
    "\n",
    "locations = []\n",
    "for x2 in np.linspace(-15, 15, 100):\n",
    "    for x1 in np.linspace(-15, 15, 100):\n",
    "        locations.append((x1, x2))\n",
    "\n",
    "p_vals = sess.run(p, feed_dict={x:locations})\n",
    "p_vals = p_vals.reshape((100, 100))\n",
    "\n",
    "#XOR計算の結果を描画(隠れ層２の計算結果の表示)\n",
    "subplot.imshow(p_vals, origin='lower', extent = (-15, 15, -15, 15), cmap = plt.cm.gray_r, alpha = 0.5)                        \n",
    "\n",
    "x_line = np.arange(-15, 15 ,0.1)\n",
    "\n",
    "# 一次関数のエッジを作る\n",
    "subplot.plot(x_line, -((w21/w11)*x_line+b1_final/w11), color='blue')\n",
    "subplot.plot(x_line, -(w12/w22)*x_line+b2_final/w22, color='orange')\n",
    "\n",
    "# グリッドを作る\n",
    "subplot.grid(which='major', color='black', linestyle='-', linewidth = 1)\n",
    "subplot.grid(which='minor', color='black', linestyle='-')\n",
    "\n",
    "# 題名と軸ラベルをかく。\n",
    "plt.suptitle(u'隠れ層２層による分類器',fontproperties=fp)\n",
    "plt.title(u'テストセット{}点'.format(len(train_set)),fontproperties=fp)\n",
    "plt.xlabel(u'X1')\n",
    "plt.ylabel(u'X2')\n",
    "plt.legend(prop=fp, loc='lower right')"
   ]
  },
  {
   "cell_type": "markdown",
   "metadata": {},
   "source": [
    "# グラフのロジック\n",
    "\n",
    "オレンジの線は、b1＜0のため、原点に向かう値は負となるため、左の領域が、正になり、右の領域が負となる。\n",
    "ブルーの線は、b2＞0のため、原点に向かう値は、正となるため、下側が正の数となる。つまり、右下の白の領域が正と正で選り分けられる。さらに、左上の白の領域は負と負の領域を満たし、XORと同じような選り分けを可能としている。\n",
    "\n",
    "これを単層で実現させることは不可能である。両端に非感染の値が存在し、領域で分類することが不可能になるためである。\n",
    "\n",
    "一層目の隠れ層の出力は、z1,z2平面の４つの点に対応し、値を散らして、格納する。\n",
    "tanh(x1, x2)の値を配列にぶち込んで、tanhは、1から、−1への値遷移の速度が速いため、-1と１になる差がつきやすい。\n",
    "\n",
    "二層目で、どのような分類が可能であるかを計算している。\n",
    "\n",
    "```python\n",
    "w2 = tf.Variable(tf.truncated_normal([num_units1, num_units2]))\n",
    "b2 = tf.Variable(tf.zeros([num_units2]))\n",
    "hidden2 = tf.nn.tanh(tf.matmul(hidden1, w2) + b2)\n",
    "```\n",
    "\n",
    "## 隠れ層の役割\n",
    "tanhの計算は、(x1, x2)のデータをこのデータの平面で上での直線で分割する操作となる。\n",
    "それを急激に変化させることで、分類を可能としている。\n",
    "\n",
    "この値をシグモイド関数に打ち込むことで、初めて分類を可能としているわけだ。\n",
    "\n",
    "今回の場合、z1,z2は４つの領域でそれぞれ決まった値をとるので、結局４つの領域それぞれに異なる確率が割り当てられることになる。\n",
    "\n",
    "## コードの補足説明 \b\n",
    "num_unitsは、隠れ層のノード数の指定を表している。\n",
    "w1,b1はそれぞれ、一次関数と、定数に対応。<br>\n",
    "w1は乱数を使っていることに注意する。\n",
    "truncated_normalは、指定サイズの多次元リストに対応するVariableを用意して、それぞれの要素を平均0,標準偏差１を、設定する。０を中心にして、およそ、±１の範囲に広がる乱数だと考える。これらの係数を０に初期化すると、最初の状態が誤差関数の底流点に一致して、\b勾配降下法による、最適化処理ができなくなることがあるため。<br>\n",
    "hidden1はZに対応する変数である。multを\b使う理由は最適化処理を高速にするため。\n",
    "\n",
    "GradiateDesentOptimizerは学習率を任意で指定できる学習法。\n",
    "\n",
    "```python\n",
    "locations = []\n",
    "for x2 in np.linspace(-15, 15, 100):\n",
    "    for x1 in np.linspace(-15, 15, 100):\n",
    "        locations.append((x1, x2))\n",
    "```\n",
    "この記法になっているのは、x1,x2平面を100＊100の領域に分割して、それぞれの代表の座標を１次元のリストlocationに格納\bする。\n",
    "\n",
    "\n",
    "```python\n",
    "p_vals = sess.run(p, feed_dict={x:locations})\n",
    "p_vals = p_vals.reshape((100, 100))\n",
    "\n",
    "```\n",
    "このリストを、Placeholder xに格納した状態で、計算値Pを評価する。 各点に於けるP(x1,x2)を格納したリストを取得する\n",
    "\n",
    "```python\n",
    "#MLE-10\n",
    "w0_val, w_val = sess.run([w0, w])\n",
    "w0_val, w1_val, w2_val = w0_val[0], w_val[0][0], w_val[1][0]\n",
    "print (w0_val, w1_val, w2_val)\n",
    "\n",
    "train_set0 = train_set[train_set['t']==0]\n",
    "train_set1 = train_set[train_set['t']==1]\n",
    "\n",
    "#MLE11\n",
    "fig = plt.figure(figsize=(6,6))\n",
    "subplot = fig.add_subplot(1,1,1)\n",
    "subplot.set_ylim([0,30])\n",
    "subplot.set_xlim([0,30])\n",
    "subplot.scatter(train_set1.x1, train_set1.x2, marker='x')\n",
    "subplot.scatter(train_set0.x1, train_set0.x2, marker='o')\n",
    "\n",
    "linex = np.linspace(0,30,10)\n",
    "liney = - (w1_val*linex/w2_val + w0_val/w2_val)\n",
    "subplot.plot(linex, liney)\n",
    "\n",
    "field = [[(1 / (1 + np.exp(-(w0_val + w1_val*x1 + w2_val*x2))))\n",
    "          for x1 in np.linspace(0,30,100)]\n",
    "         for x2 in np.linspace(0,30,100)]\n",
    "subplot.imshow(field, origin='lower', extent=(0,30,0,30),\n",
    "               cmap=plt.cm.gray_r, alpha=0.5)\n",
    "```\n",
    "\n",
    "隠れ層のノードの数を設定することで、領域の分割数を増やすことに相当する。ノードの数だけ、分割線が得られることになり、各領域を特徴付ける変数が増えることになる。M個のノードになった場合、関数は以下のようになる。\n",
    "\n",
    "```\n",
    "P(x1,x2,x3・・・,xM)\n",
    "```\n",
    "\n",
    "となる。隠れ層が増えれば増えるほどに、複雑なデータ配置にフィットしたより正確な分類が可能。\n",
    "\n",
    "##3-2 単層ニューラルネットワークによる手書き文字の認識\n",
    "\n",
    "## 3-3 多層ニューラルネットワークへの拡張\n",
    "４つの領域に分割できるかどうか？\n",
    "＝＞不可能。\n",
    "\n",
    "\b![](スクリーンショット 0030-07-01 午後1.32.16.png)\n",
    "\n",
    "\n",
    "互いに異なるタイプのデータがある場合は分類が不可能。\n",
    "例えば、第一象限と第三象限の所に１のデータがある時は不可能だよな？\n",
    "\n",
    "これは、出力層をニューラルネットワークにすることで解決可能。\n",
    "\b=>隠れ層が２層であればOK\n",
    "\n",
    "以下のコードが隠れ層の生成。これを理解して、隠れ層を拡張していくことができれば、理解はしていることになるだろう\n",
    "\n",
    "```python\n",
    "# 隠れ層のノード数の指定\n",
    "num_units1 = 2\n",
    "num_units2 = 2\n",
    "\n",
    "x = tf.placeholder(tf.float32, [None, 2])\n",
    "\n",
    "# 一層目\n",
    "w1 = tf.Variable(tf.truncated_normal([2, num_units1]))\n",
    "b1 = tf.Variable(tf.zeros([num_units1]))\n",
    "hidden1 = tf.nn.tanh(tf.matmul(x, w1)+b1)\n",
    "\n",
    "# 二層目（XOR演算）\n",
    "w2 = tf.Variable(tf.truncated_normal([num_units1, num_units2]))\n",
    "b2 = tf.Variable(tf.zeros([num_units2]))\n",
    "hidden2 = tf.nn.tanh(tf.matmul(hidden1, w2) + b2)\n",
    "\n",
    "# 出力層\n",
    "w0 = tf.Variable(tf.zeros([num_units2,1]))\n",
    "b0 = tf.Variable(tf.zeros([1]))\n",
    "p = tf.nn.sigmoid(tf.matmul(hidden2, w0) + b0)\n",
    "```\n",
    "\n",
    "\n",
    "![画像](スクリーンショット 0030-07-01 午後4.17.04.png)\n",
    "\n",
    "\n",
    "\b実際に、この式が成り立つかどうかを考えて、問題を解くと納得できるはずとのこと\n",
    "\n",
    "=> 3.8~3.12\n",
    "\n",
    "```python\n",
    "def generate_datablock(n, mu, var, t):\n",
    "    data = np.random.multivariate_normal(mu, np.eye(2)*var, n)\n",
    "    df = DataFrame(data, columns = ['x1', 'x2'])\n",
    "    df['t'] = t\n",
    "    return df\n",
    "\n",
    "# 領域を４分割に作成。これらの値をtrain_setに格納していく\n",
    "df0 = generate_datablock(30, [-7,-7], 18, 1)\n",
    "df1 = generate_datablock(30, [-7, 7], 18, 0)\n",
    "df2 = generate_datablock(30, [ 7,-7], 行うと18, 0)\n",
    "df3 = generate_datablock(30, [ 7, 7], 18, 1)\n",
    "\n",
    "df = pd.concat([df0, df1, df2, df3], ignore_index=True)\n",
    "train_set = df.reindex(permutation(df.index)).reset_index(drop=True)\n",
    "\n",
    "```\n",
    "これにより、データの\b分割をしっかり、４つの領域に分割している。\n",
    "\n",
    "一つ目の隠れ層は、(x1,x2)平面を４分割して、それぞれに４つの値を振り分けただけ。それが以下のもの。\n",
    "\n",
    "```python\n",
    "# 一層目\n",
    "w1 = tf.Variable(tf.truncated_normal([2, num_units1]))\n",
    "b1 = tf.Variable(tf.zeros([num_units1]))\n",
    "hidden1 = tf.nn.tanh(tf.matmul(x, w1)+b1)\n",
    "\n",
    "```\n",
    "\n",
    "hidden1でxと、w1の値の積を求める。そこから、bを足しているため、値をブロードキャストして、演算を行う。これを、ハイパボリックタンジェントで分割を行う。このような役割を持っている「特徴量」を作り出すのが、１つ目の隠れ層の役割となる。\n",
    "\n",
    "２つ目の隠れ層の役割は、\n"
   ]
  },
  {
   "cell_type": "code",
   "execution_count": 23,
   "metadata": {},
   "outputs": [
    {
     "data": {
      "text/plain": [
       "<matplotlib.legend.Legend at 0x11bf23fd0>"
      ]
     },
     "execution_count": 23,
     "metadata": {},
     "output_type": "execute_result"
    },
    {
     "data": {
      "image/png": "[encoded data removed]",
      "text/plain": [
       "<Figure size 432x432 with 1 Axes>"
      ]
     },
     "metadata": {},
     "output_type": "display_data"
    }
   ],
   "source": [
    "cell1 = sess.run(hidden1,feed_dict={x:train_x, t:train_t})\n",
    "\n",
    "fig = plt.figure(figsize=(6, 6))\n",
    "subplot = fig.add_subplot(1,1,1)\n",
    "subplot.set_ylim([-1.5, 1.5])\n",
    "subplot.set_xlim([-1.5, 1.5])\n",
    "\n",
    "# グリッドを作る\n",
    "subplot.grid(which='major', color='black', linestyle='-')\n",
    "subplot.grid(which='minor', color='black', linestyle='-')\n",
    "\n",
    "# Splitで配列の分割 一次関数より値が上か下かでマーカーの色を変えられるように、設定して、ニューラルネットワークの様子を作り出すこと。\n",
    "# cellx_1 = \n",
    "# cellx_0 = \n",
    "\n",
    "cellx, celly = np.split(cell1, 2, axis=1)\n",
    "# マーカーの配置\n",
    "subplot.scatter(cellx, celly, marker = 'o',label = \"値分布\",color = 'red')\n",
    "# 一次関数のエッジを作る\n",
    "w_val, b_val = sess.run([w0,b0])\n",
    "z1_line = np.arange(-1.5, 1.5, 0.01)\n",
    "w10 = w_val[0][0]\n",
    "w20 = w_val[1][0]\n",
    "b0_final = b_val[0]\n",
    "\n",
    "# 一次関数の作成(この式がおかしい。hidden1の式を代入すべき。点を出す方法でいうなら、hidden1をsess.runすることで、その中に、単層の方は式使ったけど、多層の時は式を使ってたけど、Zの式になっている。はいボリックタンジェントの式がある。-1から、１だから、numpy.linespaceを-1,1で構わない。最後pを出すため、hidden2をsessrunすると、p=~b0)を使って-1~1の範囲で記述するだけ、単装の時と変わらない。点の出し方がsessを使う発想には至らないかもしれない。1\n",
    "subplot.plot(z1_line, -w20/w10*z1_line - b0_final/w10,color='orange', linestyle='-')\n",
    "subplot.plot(z1_line, -w22/w12*z1_line - b0_final/w12,color='blue' , linestyle = 'dashed')\n",
    "\n",
    "# 値の範囲のペイント\n",
    "field = [[(w10*z1+w20*z2 + b0_final)\n",
    "          for z1 in np.linspace(-1.5, 1.5,100)]\n",
    "        for z2 in np.linspace(-1.5, 1.5,100)]\n",
    "subplot.imshow(field, origin='lower', extent = (-1.5, 1.5, -1.5, 1.5), cmap = 'gray_r', alpha = 1.0)                        \n",
    "\n",
    "# 題名と軸ラベルをかく。\n",
    "plt.suptitle(u'隠れ層２層による分類器の分類ロジック',fontproperties=fp)\n",
    "plt.title(u'テストセット{}点 α=1.0'.format(len(train_set)),fontproperties=fp)\n",
    "plt.xlabel(u'z1')\n",
    "plt.ylabel(u'z2')\n",
    "plt.legend(prop=fp, loc='upper right')"
   ]
  },
  {
   "cell_type": "code",
   "execution_count": null,
   "metadata": {},
   "outputs": [],
   "source": [
    "cell1 = sess.run(hidden1,feed_dict={x:train_x, t:train_t})\n",
    "\n",
    "fig = plt.figure(figsize=(6, 6))\n",
    "subplot = fig.add_subplot(1,1,1)\n",
    "subplot.set_ylim([-1.5, 1.5])\n",
    "subplot.set_xlim([-1.5, 1.5])\n",
    "\n",
    "# グリッドを作る\n",
    "subplot.grid(which='major', color='black', linestyle='-')\n",
    "subplot.grid(which='minor', color='black', linestyle='-')\n",
    "\n",
    "# Splitで配列の分割\n",
    "cellx, celly = np.split(cell1, 2, axis=1)\n",
    "# マーカーの配置\n",
    "subplot.scatter(cellx, celly, marker = 'o',label = \"値分布\",color = 'red')\n",
    "# 一次関数のエッジを作る\n",
    "w_val, b_val = sess.run([w0,b0])\n",
    "z1_line = np.arange(-1.5, 1.5, 0.01)\n",
    "w10 = w_val[0][0]\n",
    "w20 = w_val[1][0]\n",
    "b0_final = b_val[0]\n",
    "subplot.plot(z1_line, -w20/w10*z1_line - b0_final/w10,color='orange')\n",
    "subplot.plot(z1_line, -w22/w12*z1_line - b0_final/w12,color='blue')\n",
    "\n",
    "# 値の範囲のペイント\n",
    "field = [[(w10*z1+w20*z2 + b0_final)\n",
    "          for z1 in np.linspace(-1.5, 1.5,100)]\n",
    "        for z2 in np.linspace(-1.5, 1.5,100)]\n",
    "subplot.imshow(field, origin='lower', extent = (-1.5, 1.5, -1.5, 1.5), cmap = 'gray_r', alpha = 1.0)                        \n",
    "\n",
    "# 題名と軸ラベルをかく。\n",
    "plt.suptitle(u'隠れ層２層による分類器の分類ロジック',fontproperties=fp)\n",
    "plt.title(u'テストセット{}点 α=1.0'.format(len(train_set)),fontproperties=fp)\n",
    "plt.xlabel(u'z1')\n",
    "plt.ylabel(u'z2')\n",
    "plt.legend(prop=fp, loc='upper right')"
   ]
  },
  {
   "cell_type": "code",
   "execution_count": null,
   "metadata": {},
   "outputs": [],
   "source": []
  },
  {
   "cell_type": "code",
   "execution_count": null,
   "metadata": {},
   "outputs": [],
   "source": []
  },
  {
   "cell_type": "code",
   "execution_count": null,
   "metadata": {},
   "outputs": [],
   "source": []
  },
  {
   "cell_type": "code",
   "execution_count": null,
   "metadata": {},
   "outputs": [],
   "source": []
  }
 ],
 "metadata": {
  "kernelspec": {
   "display_name": "Environment (conda_makuwo)",
   "language": "python",
   "name": "conda_makuwo"
  },
  "language_info": {
   "codemirror_mode": {
    "name": "ipython",
    "version": 3
   },
   "file_extension": ".py",
   "mimetype": "text/x-python",
   "name": "python",
   "nbconvert_exporter": "python",
   "pygments_lexer": "ipython3",
   "version": "3.5.5"
  },
  "toc": {
   "base_numbering": 1,
   "nav_menu": {},
   "number_sections": true,
   "sideBar": true,
   "skip_h1_title": false,
   "title_cell": "Table of Contents",
   "title_sidebar": "Contents",
   "toc_cell": false,
   "toc_position": {},
   "toc_section_display": true,
   "toc_window_display": false
  }
 },
 "nbformat": 4,
 "nbformat_minor": 2
}
