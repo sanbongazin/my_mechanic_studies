{
 "cells": [
  {
   "cell_type": "code",
   "execution_count": 1,
   "metadata": {},
   "outputs": [
    {
     "name": "stderr",
     "output_type": "stream",
     "text": [
      "/Users/yamamotomasaomi/.pyenv/versions/anaconda3-5.1.0/envs/makuwo/lib/python3.5/importlib/_bootstrap.py:222: RuntimeWarning: compiletime version 3.6 of module 'tensorflow.python.framework.fast_tensor_util' does not match runtime version 3.5\n",
      "  return f(*args, **kwds)\n"
     ]
    },
    {
     "name": "stdout",
     "output_type": "stream",
     "text": [
      "WARNING:tensorflow:From /Users/yamamotomasaomi/.pyenv/versions/anaconda3-5.1.0/envs/makuwo/lib/python3.5/site-packages/tensorflow/contrib/learn/python/learn/datasets/base.py:198: retry (from tensorflow.contrib.learn.python.learn.datasets.base) is deprecated and will be removed in a future version.\n",
      "Instructions for updating:\n",
      "Use the retry module or similar alternatives.\n"
     ]
    }
   ],
   "source": [
    "#  必要な素材の収集\n",
    "import tensorflow as tf\n",
    "import numpy as np\n",
    "import matplotlib.pyplot as plt\n",
    "from tensorflow.examples.tutorials.mnist import input_data\n",
    "\n",
    "# ランダムシードの作成\n",
    "np.random.seed(20160703)\n",
    "tf.set_random_seed(20160703)\n",
    "\n",
    "# その他コンフィグ（いつもの）\n",
    "%config IPCompleter.greedy=True\n",
    "%matplotlib inline\n",
    "%matplotlib notebook"
   ]
  },
  {
   "cell_type": "code",
   "execution_count": 2,
   "metadata": {},
   "outputs": [
    {
     "name": "stdout",
     "output_type": "stream",
     "text": [
      "WARNING:tensorflow:From <ipython-input-2-27b103f323a3>:2: read_data_sets (from tensorflow.contrib.learn.python.learn.datasets.mnist) is deprecated and will be removed in a future version.\n",
      "Instructions for updating:\n",
      "Please use alternatives such as official/mnist/dataset.py from tensorflow/models.\n",
      "WARNING:tensorflow:From /Users/yamamotomasaomi/.pyenv/versions/anaconda3-5.1.0/envs/makuwo/lib/python3.5/site-packages/tensorflow/contrib/learn/python/learn/datasets/mnist.py:260: maybe_download (from tensorflow.contrib.learn.python.learn.datasets.base) is deprecated and will be removed in a future version.\n",
      "Instructions for updating:\n",
      "Please write your own downloading logic.\n",
      "WARNING:tensorflow:From /Users/yamamotomasaomi/.pyenv/versions/anaconda3-5.1.0/envs/makuwo/lib/python3.5/site-packages/tensorflow/contrib/learn/python/learn/datasets/mnist.py:262: extract_images (from tensorflow.contrib.learn.python.learn.datasets.mnist) is deprecated and will be removed in a future version.\n",
      "Instructions for updating:\n",
      "Please use tf.data to implement this functionality.\n",
      "Extracting /tmp/data/train-images-idx3-ubyte.gz\n",
      "WARNING:tensorflow:From /Users/yamamotomasaomi/.pyenv/versions/anaconda3-5.1.0/envs/makuwo/lib/python3.5/site-packages/tensorflow/contrib/learn/python/learn/datasets/mnist.py:267: extract_labels (from tensorflow.contrib.learn.python.learn.datasets.mnist) is deprecated and will be removed in a future version.\n",
      "Instructions for updating:\n",
      "Please use tf.data to implement this functionality.\n",
      "Extracting /tmp/data/train-labels-idx1-ubyte.gz\n",
      "WARNING:tensorflow:From /Users/yamamotomasaomi/.pyenv/versions/anaconda3-5.1.0/envs/makuwo/lib/python3.5/site-packages/tensorflow/contrib/learn/python/learn/datasets/mnist.py:110: dense_to_one_hot (from tensorflow.contrib.learn.python.learn.datasets.mnist) is deprecated and will be removed in a future version.\n",
      "Instructions for updating:\n",
      "Please use tf.one_hot on tensors.\n",
      "Extracting /tmp/data/t10k-images-idx3-ubyte.gz\n",
      "Extracting /tmp/data/t10k-labels-idx1-ubyte.gz\n",
      "WARNING:tensorflow:From /Users/yamamotomasaomi/.pyenv/versions/anaconda3-5.1.0/envs/makuwo/lib/python3.5/site-packages/tensorflow/contrib/learn/python/learn/datasets/mnist.py:290: DataSet.__init__ (from tensorflow.contrib.learn.python.learn.datasets.mnist) is deprecated and will be removed in a future version.\n",
      "Instructions for updating:\n",
      "Please use alternatives such as official/mnist/dataset.py from tensorflow/models.\n"
     ]
    }
   ],
   "source": [
    "# mnistデータの収集\n",
    "mnist = input_data.read_data_sets(\"/tmp/data/\", one_hot=True)"
   ]
  },
  {
   "cell_type": "code",
   "execution_count": 3,
   "metadata": {},
   "outputs": [],
   "source": [
    "# フィルターに対応するvariableを用意して、入力データに、フィルターと\n",
    "# プーリング層（画像の画質を落とすことによって結果の質をあげることができるための処理を行う層）を作る。\n",
    "\n",
    "# フィルターの作成\n",
    "num_filters = 16\n",
    "\n",
    "# Placeholderの設定\n",
    "x = tf.placeholder(tf.float32, [None, 784])\n",
    "\n",
    "#プーリング層の設定？\n",
    "x_image = tf.reshape(x, [-1, 28, 28, 1])\n",
    "\n",
    "w_conv = tf.Variable(tf.truncated_normal([5, 5, 1,num_filters], \n",
    "                                         stddev = 0.1))\n",
    "h_conv = tf.nn.conv2d(x_image, w_conv, \n",
    "                      strides=[1, 1, 1, 1], padding='SAME')\n",
    "\n",
    "h_pool = tf.nn.max_pool(h_conv ,ksize = [1, 2, 2, 1], \n",
    "                        strides=[1, 2, 2, 1], padding='SAME')\n"
   ]
  },
  {
   "cell_type": "code",
   "execution_count": 4,
   "metadata": {},
   "outputs": [],
   "source": [
    "# プーリング層からの出力を全結合層を経由してソフトマックス関数に入力する計算式を定義する\n",
    "h_pool_flat = tf.reshape(h_pool, [-1, 14*14*num_filters])\n",
    "\n",
    "# ノードの作成\n",
    "num_units1 = 14*14*num_filters\n",
    "num_units2 = 1024\n",
    "\n",
    "# 隠れ層２の作成\n",
    "w2 = tf.Variable(tf.truncated_normal([num_units1,num_units2]))\n",
    "b2 = tf.Variable(tf.zeros([num_units2]))\n",
    "# 高速化のためか、reluを使用\n",
    "hidden2 = tf.nn.relu(tf.matmul(h_pool_flat, w2) + b2)\n",
    "\n",
    "# 出力層の作成\n",
    "w0 = tf.Variable(tf.zeros([num_units2,10]))\n",
    "b0 = tf.Variable(tf.zeros([10]))\n",
    "p = tf.nn.softmax(tf.matmul(hidden2,w0) + b0)"
   ]
  },
  {
   "cell_type": "code",
   "execution_count": 5,
   "metadata": {},
   "outputs": [],
   "source": [
    "t = tf.placeholder(tf.float32, [None ,10])\n",
    "loss = -tf.reduce_sum(t*tf.log(p))\n",
    "train_step = tf.train.AdamOptimizer(0.0005).minimize(loss)\n",
    "correct_prediction = tf.equal(tf.argmax(p ,1), tf.argmax(t, 1))\n",
    "accuracy = tf.reduce_mean(tf.cast(correct_prediction, tf.float32))"
   ]
  },
  {
   "cell_type": "code",
   "execution_count": 6,
   "metadata": {},
   "outputs": [],
   "source": [
    "# Variableの初期化\n",
    "sess = tf.Session()\n",
    "sess.run(tf.global_variables_initializer())\n",
    "saver = tf.train.Saver()"
   ]
  },
  {
   "cell_type": "code",
   "execution_count": 18,
   "metadata": {},
   "outputs": [
    {
     "name": "stdout",
     "output_type": "stream",
     "text": [
      "Step: 100 Loss:5.819578 Accuracy: 0.990000\n",
      "Step: 200 Loss:4.502027 Accuracy: 0.980000\n",
      "Step: 300 Loss:2.877551 Accuracy: 0.990000\n",
      "Step: 400 Loss:5.921979 Accuracy: 0.970000\n",
      "Step: 500 Loss:3.490588 Accuracy: 1.000000\n",
      "Step: 600 Loss:3.985793 Accuracy: 0.990000\n",
      "Step: 700 Loss:8.472003 Accuracy: 0.980000\n",
      "Step: 800 Loss:0.980080 Accuracy: 1.000000\n",
      "Step: 900 Loss:4.753296 Accuracy: 0.980000\n",
      "Step: 1000 Loss:2.811954 Accuracy: 0.990000\n",
      "Step: 1100 Loss:6.041953 Accuracy: 0.990000\n",
      "Step: 1200 Loss:1.026057 Accuracy: 1.000000\n",
      "Step: 1300 Loss:0.572853 Accuracy: 1.000000\n",
      "Step: 1400 Loss:5.186653 Accuracy: 0.990000\n",
      "Step: 1500 Loss:0.345272 Accuracy: 1.000000\n",
      "Step: 1600 Loss:0.665350 Accuracy: 1.000000\n",
      "Step: 1700 Loss:2.350949 Accuracy: 0.990000\n",
      "Step: 1800 Loss:2.550058 Accuracy: 0.990000\n",
      "Step: 1900 Loss:1.068620 Accuracy: 1.000000\n",
      "Step: 2000 Loss:0.907918 Accuracy: 1.000000\n",
      "Step: 2100 Loss:0.189470 Accuracy: 1.000000\n",
      "Step: 2200 Loss:0.400936 Accuracy: 1.000000\n",
      "Step: 2300 Loss:5.978219 Accuracy: 0.990000\n",
      "Step: 2400 Loss:1.342044 Accuracy: 1.000000\n",
      "Step: 2500 Loss:0.977834 Accuracy: 1.000000\n",
      "Step: 2600 Loss:0.526375 Accuracy: 1.000000\n",
      "Step: 2700 Loss:0.117311 Accuracy: 1.000000\n",
      "Step: 2800 Loss:1.048943 Accuracy: 1.000000\n",
      "Step: 2900 Loss:1.096900 Accuracy: 1.000000\n",
      "Step: 3000 Loss:0.342367 Accuracy: 1.000000\n",
      "Step: 3100 Loss:0.314336 Accuracy: 1.000000\n",
      "Step: 3200 Loss:1.371054 Accuracy: 0.990000\n",
      "Step: 3300 Loss:0.247512 Accuracy: 1.000000\n",
      "Step: 3400 Loss:0.435282 Accuracy: 1.000000\n",
      "Step: 3500 Loss:0.166274 Accuracy: 1.000000\n",
      "Step: 3600 Loss:0.136108 Accuracy: 1.000000\n",
      "Step: 3700 Loss:0.025808 Accuracy: 1.000000\n",
      "Step: 3800 Loss:0.939553 Accuracy: 0.990000\n",
      "Step: 3900 Loss:0.249324 Accuracy: 1.000000\n",
      "Step: 4000 Loss:0.540870 Accuracy: 1.000000\n"
     ]
    }
   ],
   "source": [
    "# 演算開始\n",
    "i = 0\n",
    "\n",
    "for _ in range(4000):\n",
    "    i += 1\n",
    "    batch_xs, batch_ts = mnist.train.next_batch(100)\n",
    "    sess.run(train_step, feed_dict={x:batch_xs, t:batch_ts})\n",
    "    \n",
    "    if i % 100 == 0:\n",
    "        loss_val , acc_val = sess.run([loss, accuracy],\n",
    "            feed_dict={x:batch_xs, t:batch_ts})\n",
    "        print ('Step: %d Loss:%f Accuracy: %f' % (i, loss_val, acc_val))\n",
    "        saver.save(sess, '/Users/yamamotomasaomi/jupyter_Study/mdc_session', global_step=i)"
   ]
  },
  {
   "cell_type": "code",
   "execution_count": 22,
   "metadata": {},
   "outputs": [
    {
     "name": "stdout",
     "output_type": "stream",
     "text": [
      "mdc_session                          mdc_session-3800.index\r\n",
      "mdc_session-3600.data-00000-of-00001 mdc_session-3800.meta\r\n",
      "mdc_session-3600.index               mdc_session-3900.data-00000-of-00001\r\n",
      "mdc_session-3600.meta                mdc_session-3900.index\r\n",
      "mdc_session-3700.data-00000-of-00001 mdc_session-3900.meta\r\n",
      "mdc_session-3700.index               mdc_session-4000.data-00000-of-00001\r\n",
      "mdc_session-3700.meta                mdc_session-4000.index\r\n",
      "mdc_session-3800.data-00000-of-00001 mdc_session-4000.meta\r\n"
     ]
    }
   ],
   "source": [
    "! ls mdc_session*"
   ]
  },
  {
   "cell_type": "code",
   "execution_count": null,
   "metadata": {},
   "outputs": [],
   "source": []
  }
 ],
 "metadata": {
  "kernelspec": {
   "display_name": "Environment (conda_makuwo)",
   "language": "python",
   "name": "conda_makuwo"
  },
  "language_info": {
   "codemirror_mode": {
    "name": "ipython",
    "version": 3
   },
   "file_extension": ".py",
   "mimetype": "text/x-python",
   "name": "python",
   "nbconvert_exporter": "python",
   "pygments_lexer": "ipython3",
   "version": "3.5.5"
  },
  "toc": {
   "base_numbering": 1,
   "nav_menu": {},
   "number_sections": true,
   "sideBar": true,
   "skip_h1_title": false,
   "title_cell": "Table of Contents",
   "title_sidebar": "Contents",
   "toc_cell": false,
   "toc_position": {},
   "toc_section_display": true,
   "toc_window_display": false
  }
 },
 "nbformat": 4,
 "nbformat_minor": 2
}
