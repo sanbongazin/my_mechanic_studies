{
 "cells": [
  {
   "cell_type": "code",
   "execution_count": 1,
   "metadata": {},
   "outputs": [
    {
     "name": "stderr",
     "output_type": "stream",
     "text": [
      "/Users/yamamotomasaomi/.pyenv/versions/anaconda3-5.1.0/envs/makuwo/lib/python3.5/importlib/_bootstrap.py:222: RuntimeWarning: compiletime version 3.6 of module 'tensorflow.python.framework.fast_tensor_util' does not match runtime version 3.5\n",
      "  return f(*args, **kwds)\n"
     ]
    }
   ],
   "source": [
    "import tensorflow as tf\n",
    "import numpy as np\n",
    "import matplotlib.pyplot as plt\n",
    "from numpy.random import multivariate_normal,permutation\n",
    "# from tensorflow.examples.tutorials.mnist import input_data\n",
    "import pandas as pd\n",
    "from pandas import DataFrame, Series\n",
    "from matplotlib.font_manager import FontProperties\n",
    "\n",
    "fp = FontProperties(fname=r'/system/library/fonts/ヒラギノ角ゴシック W0.ttc', size = 14)\n",
    "\n",
    "np.random.seed(19961123)\n",
    "tf.set_random_seed(19961123)\n",
    "\n",
    "%config IPCompleter.greedy=True\n",
    "%matplotlib inline\n",
    "%matplotlib notebook"
   ]
  },
  {
   "cell_type": "code",
   "execution_count": 2,
   "metadata": {},
   "outputs": [],
   "source": [
    "def generate_datablock(n, mu, var, t):\n",
    "    data = np.random.multivariate_normal(mu, np.eye(2)*var, n)\n",
    "    df = DataFrame(data, columns = ['x1', 'x2'])\n",
    "    df['t'] = t\n",
    "    return df\n",
    "\n",
    "# 領域を４分割に作成。これらの値をtrain_setに格納していく\n",
    "df0 = generate_datablock(30, [-7,-7], 18, 1)\n",
    "df1 = generate_datablock(30, [-7, 7], 18, 0)\n",
    "df2 = generate_datablock(30, [ 7,-7], 18, 0)\n",
    "df3 = generate_datablock(30, [ 7, 7], 18, 1)\n",
    "\n",
    "df = pd.concat([df0, df1, df2, df3], ignore_index=True)\n",
    "train_set = df.reindex(permutation(df.index)).reset_index(drop=True)"
   ]
  },
  {
   "cell_type": "code",
   "execution_count": 3,
   "metadata": {},
   "outputs": [],
   "source": [
    "train_x = train_set[['x1','x2']].as_matrix()\n",
    "train_t = train_set['t'].as_matrix().reshape([len(train_set), 1])"
   ]
  },
  {
   "cell_type": "code",
   "execution_count": 4,
   "metadata": {},
   "outputs": [],
   "source": [
    "# mnist = input_data.read_data_sets(\"/tmp/data/\", one_hot=True)"
   ]
  },
  {
   "cell_type": "code",
   "execution_count": 5,
   "metadata": {},
   "outputs": [],
   "source": [
    "# 隠れ層のノード数の指定\n",
    "num_units1 = 2\n",
    "num_units2 = 2\n",
    "\n",
    "x = tf.placeholder(tf.float32, [None, 2])\n",
    "\n",
    "# 一層目\n",
    "w1 = tf.Variable(tf.truncated_normal([2, num_units1]))\n",
    "b1 = tf.Variable(tf.zeros([num_units1]))\n",
    "hidden1 = tf.nn.tanh(tf.matmul(x, w1)+b1)\n",
    "\n",
    "# 二層目（XOR演算）\n",
    "w2 = tf.Variable(tf.truncated_normal([num_units1, num_units2]))\n",
    "b2 = tf.Variable(tf.zeros([num_units2]))\n",
    "hidden2 = tf.nn.tanh(tf.matmul(hidden1, w2) + b2)\n",
    "\n",
    "# 出力層\n",
    "w0 = tf.Variable(tf.zeros([num_units2,1]))\n",
    "b0 = tf.Variable(tf.zeros([1]))\n",
    "p = tf.nn.sigmoid(tf.matmul(hidden2, w0) + b0)"
   ]
  },
  {
   "cell_type": "code",
   "execution_count": 6,
   "metadata": {},
   "outputs": [],
   "source": [
    "t = tf.placeholder(tf.float32, [None, 1])\n",
    "loss = -tf.reduce_sum(t * tf.log(p) + (1-t) * tf.log(1-p))\n",
    "train_step = tf.train.GradientDescentOptimizer(0.07).minimize(loss)\n",
    "# train_step = tf.train.AdamOptimizer().minimize(loss)\n",
    "\n",
    "# 学習率の指定\n",
    "correct_prediction = tf.equal(tf.sign(p - 0.5), tf.sign(t - 0.5))\n",
    "accuracy = tf.reduce_mean(tf.cast(correct_prediction, tf.float32))"
   ]
  },
  {
   "cell_type": "code",
   "execution_count": 7,
   "metadata": {},
   "outputs": [],
   "source": [
    "sess = tf.InteractiveSession()\n",
    "sess.run(tf.global_variables_initializer())"
   ]
  },
  {
   "cell_type": "code",
   "execution_count": 8,
   "metadata": {},
   "outputs": [
    {
     "name": "stdout",
     "output_type": "stream",
     "text": [
      "Step:100, Loss:68.314377, Accuracy:0.675000\n",
      "Step:200, Loss:39.090866, Accuracy:0.875000\n",
      "Step:300, Loss:39.146416, Accuracy:0.875000\n",
      "Step:400, Loss:39.145302, Accuracy:0.875000\n",
      "Step:500, Loss:39.144554, Accuracy:0.875000\n",
      "Step:600, Loss:39.143929, Accuracy:0.875000\n",
      "Step:700, Loss:39.143394, Accuracy:0.875000\n",
      "Step:800, Loss:39.142944, Accuracy:0.875000\n",
      "Step:900, Loss:39.142563, Accuracy:0.875000\n",
      "Step:1000, Loss:39.142231, Accuracy:0.875000\n",
      "Step:1100, Loss:39.141960, Accuracy:0.875000\n",
      "Step:1200, Loss:39.141731, Accuracy:0.875000\n",
      "Step:1300, Loss:39.141541, Accuracy:0.875000\n",
      "Step:1400, Loss:39.141396, Accuracy:0.875000\n",
      "Step:1500, Loss:39.141281, Accuracy:0.875000\n",
      "Step:1600, Loss:39.141212, Accuracy:0.875000\n",
      "Step:1700, Loss:39.141182, Accuracy:0.875000\n",
      "Step:1800, Loss:39.141205, Accuracy:0.875000\n",
      "Step:1900, Loss:39.141289, Accuracy:0.875000\n",
      "Step:2000, Loss:39.141457, Accuracy:0.875000\n"
     ]
    }
   ],
   "source": [
    "# 正解率の計算\n",
    "i=0\n",
    "for _ in range(2000):\n",
    "    i += 1\n",
    "    sess.run(train_step, feed_dict={x:train_x, t:train_t})\n",
    "    if i % 100 == 0:\n",
    "        loss_val, acc_val = sess.run([loss,accuracy],feed_dict={x:train_x, t:train_t})\n",
    "        print ('Step:%d, Loss:%f, Accuracy:%f' % (i, loss_val, acc_val) )"
   ]
  },
  {
   "cell_type": "code",
   "execution_count": 9,
   "metadata": {},
   "outputs": [
    {
     "name": "stdout",
     "output_type": "stream",
     "text": [
      "[[ 6.815619  -0.7824834]\n",
      " [ 1.2511846 -5.152375 ]]\n",
      "[-2.7414606   0.79206765]\n"
     ]
    }
   ],
   "source": [
    "w1_val , b1_val=sess.run([w1,b1])\n",
    "print (w1_val)\n",
    "print (b1_val)"
   ]
  },
  {
   "cell_type": "code",
   "execution_count": 10,
   "metadata": {},
   "outputs": [],
   "source": [
    "# それぞれのw11,w21,w22,w12という一次関数に代入する値を設定する。\n",
    "w11 = w1_val[0][0]\n",
    "w21 = w1_val[1][0]\n",
    "w12 = w1_val[1][1]\n",
    "w22 = w1_val[0][1]\n",
    "b1_final = b1_val[0] \n",
    "b2_final = b1_val[1]"
   ]
  },
  {
   "cell_type": "code",
   "execution_count": 11,
   "metadata": {},
   "outputs": [],
   "source": [
    "# b1_val[0]"
   ]
  },
  {
   "cell_type": "code",
   "execution_count": 12,
   "metadata": {},
   "outputs": [
    {
     "data": {
      "text/plain": [
       "<matplotlib.legend.Legend at 0x10aed0860>"
      ]
     },
     "execution_count": 12,
     "metadata": {},
     "output_type": "execute_result"
    },
    {
     "data": {
      "image/png": "[encoded data removed]",
      "text/plain": [
       "<Figure size 432x432 with 1 Axes>"
      ]
     },
     "metadata": {},
     "output_type": "display_data"
    }
   ],
   "source": [
    "train_set1 = train_set[train_set['t'] == 1]\n",
    "train_set2 = train_set[train_set['t'] == 0]\n",
    "\n",
    "fig = plt.figure(figsize=(6, 6))\n",
    "subplot = fig.add_subplot(1,1,1)\n",
    "subplot.set_ylim([-15, 15])\n",
    "subplot.set_xlim([-15, 15])\n",
    "\n",
    "# マーカーの配置\n",
    "subplot.scatter(train_set1.x1, train_set1.x2, marker = 'x',label = \"t=1 非感染{}\".format(len(train_set1)))\n",
    "subplot.scatter(train_set2.x1, train_set2.x2, marker = 'o',label = \"t=0 感染{}\".format(len(train_set2)))\n",
    "\n",
    "locations = []\n",
    "for x2 in np.linspace(-15, 15, 100):\n",
    "    for x1 in np.linspace(-15, 15, 100):\n",
    "        locations.append((x1, x2))\n",
    "\n",
    "p_vals = sess.run(p, feed_dict={x:locations})\n",
    "p_vals = p_vals.reshape((100, 100))\n",
    "\n",
    "#XOR計算の結果を描画(隠れ層２の計算結果の表示)\n",
    "subplot.imshow(p_vals, origin='lower', extent = (-15, 15, -15, 15), cmap = plt.cm.gray_r, alpha = 0.5)                        \n",
    "\n",
    "x_line = np.arange(-15, 15 ,0.1)\n",
    "\n",
    "# 一次関数のエッジを作る\n",
    "subplot.plot(x_line, -((w21/w11)*x_line+b1_final/w11), color='blue')\n",
    "subplot.plot(x_line, -(w12/w22)*x_line+b2_final/w22, color='orange')\n",
    "\n",
    "# グリッドを作る\n",
    "subplot.grid(which='major', color='black', linestyle='-', linewidth = 1)\n",
    "subplot.grid(which='minor', color='black', linestyle='-')\n",
    "\n",
    "# 題名と軸ラベルをかく。\n",
    "plt.suptitle(u'隠れ層２層による分類器',fontproperties=fp)\n",
    "plt.title(u'テストセット{}点'.format(len(train_set)),fontproperties=fp)\n",
    "plt.xlabel(u'X1')\n",
    "plt.ylabel(u'X2')\n",
    "plt.legend(prop=fp, loc='lower right')"
   ]
  },
  {
   "cell_type": "markdown",
   "metadata": {},
   "source": [
    "# グラフのロジック\n",
    "\n",
    "オレンジの線は、b1＜0のため、原点に向かう値は負となるため、左の領域が、正になり、右の領域が負となる。\n",
    "ブルーの線は、b2＞0のため、原点に向かう値は、正となるため、下側が正の数となる。つまり、右下の白の領域が正と正で選り分けられる。さらに、左上の白の領域は負と負の領域を満たし、XORと同じような選り分けを可能としている。\n",
    "\n",
    "これを単層で実現させることは不可能である。両端に非感染の値が存在し、領域で分類することが不可能になるためである。\n",
    "\n",
    "一層目の隠れ層の出力は、z1,z2平面の４つの点に対応し、値を散らして、格納する。\n",
    "tanh(x1, x2)の値を配列にぶち込んで、tanhは、1から、−1への値遷移の速度が速いため、-1と１になる差がつきやすい。\n",
    "\n",
    "二層目で、どのような分類が可能であるかを計算している。\n",
    "\n",
    "```python\n",
    "w2 = tf.Variable(tf.truncated_normal([num_units1, num_units2]))\n",
    "b2 = tf.Variable(tf.zeros([num_units2]))\n",
    "hidden2 = tf.nn.tanh(tf.matmul(hidden1, w2) + b2)\n",
    "```\n",
    "\n",
    "## 隠れ層の役割\n",
    "tanhの計算は、(x1, x2)のデータをこのデータの平面で上での直線で分割する操作となる。\n",
    "それを急激に変化させることで、分類を可能としている。\n",
    "\n",
    "この値をシグモイド関数に打ち込むことで、初めて分類を可能としているわけだ。\n",
    "\n",
    "今回の場合、z1,z2は４つの領域でそれぞれ決まった値をとるので、結局４つの領域それぞれに異なる確率が割り当てられることになる。\n",
    "\n"
   ]
  },
  {
   "cell_type": "code",
   "execution_count": 13,
   "metadata": {},
   "outputs": [
    {
     "data": {
      "text/plain": [
       "<matplotlib.legend.Legend at 0x10afab518>"
      ]
     },
     "execution_count": 13,
     "metadata": {},
     "output_type": "execute_result"
    },
    {
     "data": {
      "image/png": "[encoded data removed]",
      "text/plain": [
       "<Figure size 432x432 with 1 Axes>"
      ]
     },
     "metadata": {},
     "output_type": "display_data"
    }
   ],
   "source": [
    "cell1 = sess.run(hidden1,feed_dict={x:train_x, t:train_t})\n",
    "\n",
    "fig = plt.figure(figsize=(6, 6))\n",
    "subplot = fig.add_subplot(1,1,1)\n",
    "subplot.set_ylim([-1.5, 1.5])\n",
    "subplot.set_xlim([-1.5, 1.5])\n",
    "\n",
    "# グリッドを作る\n",
    "subplot.grid(which='major', color='black', linestyle='-')\n",
    "subplot.grid(which='minor', color='black', linestyle='-')\n",
    "\n",
    "# Splitで配列の分割\n",
    "cellx, celly = np.split(cell1, 2, axis=1)\n",
    "\n",
    "# マーカーの配置\n",
    "subplot.scatter(cellx, celly, marker = 'o',label = \"値分布\",color = 'red')\n",
    "\n",
    "# 一次関数のエッジを作る\n",
    "w_val, b_val = sess.run([w1,b1])\n",
    "z1_line = np.arange(-1.5, 1.5, 0.01)\n",
    "w10 = w_val[0][0]\n",
    "w20 = w_val[1][0]\n",
    "b0_final = b_val[0]\n",
    "subplot.plot(z1_line, -(w20/w10*z1_line + b0_final/w10),color='orange')\n",
    "\n",
    "# 値の範囲のペイント\n",
    "field = [[(w10*z1+w20*z2 + b0_final)\n",
    "          for z1 in np.linspace(-1.5, 1.5,100)]\n",
    "        for z2 in np.linspace(-1.5, 1.5,100)]\n",
    "subplot.imshow(field, origin='lower', extent = (-1.5, 1.5, -1.5, 1.5), cmap = 'gray_r', alpha = 1.0)                        \n",
    "\n",
    "# 題名と軸ラベルをかく。\n",
    "plt.suptitle(u'隠れ層２層による分類器の分類ロジック',fontproperties=fp)\n",
    "plt.title(u'テストセット{}点 α=1.0'.format(len(train_set)),fontproperties=fp)\n",
    "plt.xlabel(u'z1')\n",
    "plt.ylabel(u'z2')\n",
    "plt.legend(prop=fp, loc='upper right')"
   ]
  },
  {
   "cell_type": "code",
   "execution_count": null,
   "metadata": {},
   "outputs": [],
   "source": []
  },
  {
   "cell_type": "code",
   "execution_count": null,
   "metadata": {},
   "outputs": [],
   "source": []
  },
  {
   "cell_type": "code",
   "execution_count": null,
   "metadata": {},
   "outputs": [],
   "source": []
  },
  {
   "cell_type": "code",
   "execution_count": null,
   "metadata": {},
   "outputs": [],
   "source": []
  }
 ],
 "metadata": {
  "kernelspec": {
   "display_name": "Environment (conda_makuwo)",
   "language": "python",
   "name": "conda_makuwo"
  },
  "language_info": {
   "codemirror_mode": {
    "name": "ipython",
    "version": 3
   },
   "file_extension": ".py",
   "mimetype": "text/x-python",
   "name": "python",
   "nbconvert_exporter": "python",
   "pygments_lexer": "ipython3",
   "version": "3.5.5"
  }
 },
 "nbformat": 4,
 "nbformat_minor": 2
}
