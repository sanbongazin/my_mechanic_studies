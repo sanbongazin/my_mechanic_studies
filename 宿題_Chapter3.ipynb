{
 "cells": [
  {
   "cell_type": "code",
   "execution_count": 1,
   "metadata": {},
   "outputs": [
    {
     "name": "stderr",
     "output_type": "stream",
     "text": [
      "/Users/yamamotomasaomi/.pyenv/versions/anaconda3-5.1.0/envs/makuwo/lib/python3.5/importlib/_bootstrap.py:222: RuntimeWarning: compiletime version 3.6 of module 'tensorflow.python.framework.fast_tensor_util' does not match runtime version 3.5\n",
      "  return f(*args, **kwds)\n"
     ]
    }
   ],
   "source": [
    "import tensorflow as tf\n",
    "import numpy as np\n",
    "import matplotlib.pyplot as plt\n",
    "from numpy.random import multivariate_normal,permutation\n",
    "import pandas as pd\n",
    "from pandas import DataFrame, Series\n",
    "\n",
    "np.random.seed(20160614)\n",
    "tf.set_random_seed(20160614)\n",
    "\n",
    "%config IPCompleter.greedy=True\n",
    "%matplotlib inline\n",
    "%matplotlib notebook"
   ]
  },
  {
   "cell_type": "code",
   "execution_count": 2,
   "metadata": {},
   "outputs": [],
   "source": [
    "def generate_datablock(n, mu, var, t):\n",
    "    data = multivariate_normal(mu, np.eye(2)*var, n)\n",
    "    df = DataFrame(data, columns=['x1','x2'])\n",
    "    df['t'] = t\n",
    "    return df\n",
    "df0 = generate_datablock(15,[7,7],22,0)\n",
    "df1 = generate_datablock(15,[22,7],22,0)\n",
    "df2 = generate_datablock(10,[7,22],22,0)\n",
    "df3 = generate_datablock(25,[20,20],22,1)\n",
    "\n",
    "df = pd.concat([df0,df1,df2,df3], ignore_index=True)\n",
    "train_set = df.reindex(permutation(df.index)).reset_index(drop=True)"
   ]
  },
  {
   "cell_type": "code",
   "execution_count": 3,
   "metadata": {},
   "outputs": [],
   "source": [
    "train_x = train_set[['x1','x2']].as_matrix()\n",
    "train_t = train_set['t'].as_matrix().reshape([len(train_set),1])"
   ]
  },
  {
   "cell_type": "code",
   "execution_count": 4,
   "metadata": {},
   "outputs": [],
   "source": [
    "num_units = 4\n",
    "mult = train_x.flatten().mean()\n",
    "\n",
    "x = tf.placeholder(tf.float32,[None,2])\n",
    "\n",
    "w1 = tf.Variable(tf.truncated_normal([2,num_units]))\n",
    "b1 = tf.Variable(tf.zeros([num_units]))\n",
    "hidden1 = tf.nn.tanh(tf.matmul(x, w1) + b1*mult)\n",
    "\n",
    "w0 = tf.Variable(tf.zeros([num_units, 1]))\n",
    "b0 = tf.Variable(tf.zeros([1]))\n",
    "p = tf.nn.sigmoid(tf.matmul(hidden1, w0) + b0*mult)"
   ]
  },
  {
   "cell_type": "code",
   "execution_count": 5,
   "metadata": {},
   "outputs": [],
   "source": [
    "t = tf.placeholder(tf.float32,[None, 1])\n",
    "loss = -tf.reduce_sum(t*tf.log(p) + (1-t)*tf.log(1-p))\n",
    "train_step = tf.train.GradientDescentOptimizer(0.0005).minimize(loss)\n",
    "correct_prediction = tf.equal(tf.sign(p-0.5),tf.sign(t-0.5))\n",
    "accuracy = accuracy = tf.reduce_mean(tf.cast(correct_prediction, tf.float32))"
   ]
  },
  {
   "cell_type": "code",
   "execution_count": 6,
   "metadata": {},
   "outputs": [],
   "source": [
    "sess = tf.InteractiveSession()\n",
    "sess.run(tf.global_variables_initializer())"
   ]
  },
  {
   "cell_type": "code",
   "execution_count": 7,
   "metadata": {},
   "outputs": [
    {
     "name": "stdout",
     "output_type": "stream",
     "text": [
      "Step:100 Loss:42.306732, Accuracy:0.615385\n",
      "Step:200 Loss:35.429836, Accuracy:0.615385\n",
      "Step:300 Loss:29.520407, Accuracy:0.830769\n",
      "Step:400 Loss:23.003967, Accuracy:0.892308\n",
      "Step:500 Loss:17.963150, Accuracy:0.938462\n",
      "Step:600 Loss:14.951723, Accuracy:0.938462\n",
      "Step:700 Loss:12.873066, Accuracy:0.938462\n",
      "Step:800 Loss:11.512395, Accuracy:0.953846\n",
      "Step:900 Loss:10.482079, Accuracy:0.969231\n",
      "Step:1000 Loss:10.254847, Accuracy:0.969231\n",
      "Step:1100 Loss:9.647793, Accuracy:0.969231\n",
      "Step:1200 Loss:9.084059, Accuracy:0.969231\n",
      "Step:1300 Loss:8.513965, Accuracy:0.969231\n",
      "Step:1400 Loss:7.934921, Accuracy:0.969231\n",
      "Step:1500 Loss:7.423864, Accuracy:0.984615\n",
      "Step:1600 Loss:6.993739, Accuracy:0.984615\n",
      "Step:1700 Loss:6.576995, Accuracy:0.984615\n",
      "Step:1800 Loss:6.151159, Accuracy:0.984615\n",
      "Step:1900 Loss:5.817125, Accuracy:0.984615\n",
      "Step:2000 Loss:5.582230, Accuracy:0.984615\n",
      "Step:2100 Loss:5.404065, Accuracy:0.984615\n",
      "Step:2200 Loss:5.260813, Accuracy:0.984615\n",
      "Step:2300 Loss:5.135258, Accuracy:0.984615\n",
      "Step:2400 Loss:5.021264, Accuracy:0.984615\n",
      "Step:2500 Loss:4.916821, Accuracy:0.984615\n",
      "Step:2600 Loss:4.820570, Accuracy:0.984615\n",
      "Step:2700 Loss:4.731431, Accuracy:0.984615\n",
      "Step:2800 Loss:4.648501, Accuracy:0.984615\n",
      "Step:2900 Loss:4.571006, Accuracy:0.984615\n",
      "Step:3000 Loss:4.498227, Accuracy:0.984615\n",
      "Step:3100 Loss:4.429452, Accuracy:0.984615\n",
      "Step:3200 Loss:4.363871, Accuracy:0.984615\n",
      "Step:3300 Loss:4.300420, Accuracy:0.984615\n",
      "Step:3400 Loss:4.237533, Accuracy:0.984615\n",
      "Step:3500 Loss:4.172994, Accuracy:0.984615\n",
      "Step:3600 Loss:4.104191, Accuracy:0.984615\n",
      "Step:3700 Loss:4.028255, Accuracy:0.984615\n",
      "Step:3800 Loss:3.938365, Accuracy:0.984615\n",
      "Step:3900 Loss:3.791806, Accuracy:0.984615\n",
      "Step:4000 Loss:3.581244, Accuracy:0.984615\n"
     ]
    }
   ],
   "source": [
    "i = 0\n",
    "for _ in range(4000):\n",
    "    i += 1\n",
    "    sess.run(train_step, feed_dict={x:train_x, t:train_t})\n",
    "    if i % 100 == 0:\n",
    "        loss_val, acc_val = sess.run([loss,accuracy],feed_dict={x:train_x,t:train_t})\n",
    "        print ('Step:%d Loss:%f, Accuracy:%f' % (i, loss_val, acc_val))"
   ]
  },
  {
   "cell_type": "code",
   "execution_count": 10,
   "metadata": {},
   "outputs": [
    {
     "data": {
      "text/plain": [
       "<matplotlib.image.AxesImage at 0x1166a2b00>"
      ]
     },
     "execution_count": 10,
     "metadata": {},
     "output_type": "execute_result"
    },
    {
     "data": {
      "image/png": "[encoded data removed]",
      "text/plain": [
       "<Figure size 432x432 with 1 Axes>"
      ]
     },
     "metadata": {},
     "output_type": "display_data"
    }
   ],
   "source": [
    "train_set1 = train_set[train_set['t']==1]\n",
    "train_set2 = train_set[train_set['t']==0]\n",
    "\n",
    "fig = plt.figure(figsize=(6,6))\n",
    "subplot = fig.add_subplot(1,1,1)\n",
    "subplot.set_ylim([0,30])\n",
    "subplot.set_xlim([0,30])\n",
    "subplot.scatter(train_set1.x1, train_set1.x2, marker='x')# これはxでないと使えないらしい\n",
    "subplot.scatter(train_set2.x1, train_set2.x2, marker='o')#　同様にこちらもo\n",
    "\n",
    "localtions = []\n",
    "for x2 in np.linspace(0,30,100):\n",
    "    for x1 in np.linspace(0,30,100):\n",
    "        localtions.append((x1,x2))\n",
    "p_vals = sess.run(p, feed_dict={x:localtions})\n",
    "p_vals = p_vals.reshape((100,100))\n",
    "subplot.imshow(p_vals, origin='lower', extent=(0,30,0,30),cmap=\"magma_r\", alpha=0.5)"
   ]
  },
  {
   "cell_type": "code",
   "execution_count": null,
   "metadata": {},
   "outputs": [],
   "source": []
  }
 ],
 "metadata": {
  "kernelspec": {
   "display_name": "Environment (conda_makuwo)",
   "language": "python",
   "name": "conda_makuwo"
  },
  "language_info": {
   "codemirror_mode": {
    "name": "ipython",
    "version": 3
   },
   "file_extension": ".py",
   "mimetype": "text/x-python",
   "name": "python",
   "nbconvert_exporter": "python",
   "pygments_lexer": "ipython3",
   "version": "3.5.5"
  }
 },
 "nbformat": 4,
 "nbformat_minor": 2
}
